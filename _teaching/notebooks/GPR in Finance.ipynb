{
 "cells": [
  {
   "cell_type": "markdown",
   "id": "e633c843",
   "metadata": {},
   "source": [
    "<h1><center> Application of Gaussian Process Regressions in Finance  </center></h1>\n",
    "\n",
    "\n",
    " Welcome to this notebook illustrating the session on $\\textit{GPR}$ of the course $\\textbf{\"Machine Learning in Finance : Theoretical foundations\"}$ through practical applications in finance and insurance. This notebook aims to show how can we implement $\\textit{GPR}$ efficiently in Python through libraries and how we can apply them for pricing purposes. \n",
    "\n",
    "\n",
    "\n",
    "<h2> Summary of the lecture : </h2>\n",
    "\n",
    "- [Some simple applications of GPR for pricing in finance and insurance](#applications)\n",
    "  - [A Call Option and Delta under B-S model](#call-BS)\n",
    "  - [A GMMB contract in insurance](#gmmb-insurance)\n",
    "- [An application of GPR and Monte-Carlo for CVA computation in finance](#GPR-MC)\n",
    "  - [What is Credit Valuation Adjustment (CVA) ?](#what-is-CVA?)\n",
    "  - [The GPR-MC methodology for CVA and applications](#CVA-GPRMC)\n",
    "- [References](#references)"
   ]
  },
  {
   "cell_type": "markdown",
   "id": "ea3481cf",
   "metadata": {},
   "source": [
    "<a id=applications></a>\n",
    "<h2> <center> Some simple applications of GPR for pricing in finance and insurance  </center> </h2>\n",
    "\n",
    "\n",
    "<h4> Some reminders : </h4>"
   ]
  },
  {
   "cell_type": "code",
   "execution_count": null,
   "id": "c8a1e826",
   "metadata": {},
   "outputs": [],
   "source": []
  },
  {
   "cell_type": "markdown",
   "id": "1f4f90a6",
   "metadata": {},
   "source": [
    "<a id=call-BS></a>\n",
    "<h3> <center> A Call option and Delta under B-S model </center> </h3>"
   ]
  },
  {
   "cell_type": "code",
   "execution_count": null,
   "id": "abee878f",
   "metadata": {},
   "outputs": [],
   "source": []
  },
  {
   "cell_type": "code",
   "execution_count": null,
   "id": "855925d4",
   "metadata": {},
   "outputs": [],
   "source": []
  },
  {
   "cell_type": "code",
   "execution_count": null,
   "id": "34a35fc0",
   "metadata": {},
   "outputs": [],
   "source": []
  },
  {
   "cell_type": "code",
   "execution_count": null,
   "id": "1483199b",
   "metadata": {},
   "outputs": [],
   "source": []
  },
  {
   "cell_type": "markdown",
   "id": "f3add760",
   "metadata": {},
   "source": [
    "<a id=gmmb-insurance></a>\n",
    "<h3> <center> A GMMB contract in insurance </center> </h3>"
   ]
  },
  {
   "cell_type": "code",
   "execution_count": null,
   "id": "273044d0",
   "metadata": {},
   "outputs": [],
   "source": []
  },
  {
   "cell_type": "code",
   "execution_count": null,
   "id": "5343d552",
   "metadata": {},
   "outputs": [],
   "source": []
  },
  {
   "cell_type": "code",
   "execution_count": null,
   "id": "a258d80d",
   "metadata": {},
   "outputs": [],
   "source": []
  },
  {
   "cell_type": "code",
   "execution_count": null,
   "id": "908025a3",
   "metadata": {},
   "outputs": [],
   "source": []
  },
  {
   "cell_type": "markdown",
   "id": "f93335a7",
   "metadata": {},
   "source": [
    "<a id=GPR-MC></a>\n",
    "<h2> <center> An application of GPR and Monte-Carlo for CVA computation in finance  </center> </h2>\n",
    "\n",
    "\n",
    "Insert some text here."
   ]
  },
  {
   "cell_type": "markdown",
   "id": "39fa6709",
   "metadata": {},
   "source": [
    "<a id=what-is-CVA?></a>\n",
    "<h3> <center> What is Credit Valuation Adjustment ($\\textit{CVA}$) ? </center> </h3>"
   ]
  },
  {
   "cell_type": "code",
   "execution_count": null,
   "id": "d9f4dd70",
   "metadata": {},
   "outputs": [],
   "source": []
  },
  {
   "cell_type": "markdown",
   "id": "3d4f9e79",
   "metadata": {},
   "source": [
    "<a id=CVA-GPRMC></a>\n",
    "<h3> <center> The $\\textit{GPR-MC}$ methodology for CVA and applications : </center> </h3>"
   ]
  },
  {
   "cell_type": "code",
   "execution_count": null,
   "id": "fa8d41c9",
   "metadata": {},
   "outputs": [],
   "source": []
  },
  {
   "cell_type": "code",
   "execution_count": null,
   "id": "d95465f1",
   "metadata": {},
   "outputs": [],
   "source": []
  },
  {
   "cell_type": "code",
   "execution_count": null,
   "id": "89074745",
   "metadata": {},
   "outputs": [],
   "source": []
  },
  {
   "cell_type": "markdown",
   "id": "a560e676",
   "metadata": {},
   "source": [
    "<a id=references></a>\n",
    "<h2> <center> References : </center> </h2>\n",
    "\n",
    "$\\bullet$ $\\textbf{Machine Learning in Finance: From Theory to Practice}$ from\n",
    "\n",
    "$\\bullet$ $\\textbf{Gaussian Process Regression for Derivative Portfolio\n",
    "Modeling and Application to CVA Computations}$\n",
    "\n",
    "$\\bullet$ \n",
    "\n",
    "$\\bullet$ \n",
    "\n",
    "\n"
   ]
  },
  {
   "cell_type": "code",
   "execution_count": null,
   "id": "7cbee7c8",
   "metadata": {},
   "outputs": [],
   "source": []
  }
 ],
 "metadata": {
  "kernelspec": {
   "display_name": "AppStatApp_TP2",
   "language": "python",
   "name": "appstatapp_tp2"
  },
  "language_info": {
   "codemirror_mode": {
    "name": "ipython",
    "version": 3
   },
   "file_extension": ".py",
   "mimetype": "text/x-python",
   "name": "python",
   "nbconvert_exporter": "python",
   "pygments_lexer": "ipython3",
   "version": "3.10.9"
  }
 },
 "nbformat": 4,
 "nbformat_minor": 5
}
